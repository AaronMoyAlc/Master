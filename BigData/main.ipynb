{
  "cells": [
    {
      "cell_type": "code",
      "execution_count": 1,
      "metadata": {
        "id": "hD8V7OZQ9jQN"
      },
      "outputs": [],
      "source": [
        "# importamos librerias de pyspark para realizar el preprocesado de los datos\n",
        "from pyspark.sql import SparkSession\n",
        "from pyspark.sql.functions import col, when, count, isnan, isnull, mean, round\n",
        "from pyspark.sql.types import IntegerType\n",
        "from pyspark.ml.feature import StringIndexer\n",
        "from pyspark.ml.feature import VectorAssembler\n",
        "from pyspark.ml.feature import StandardScaler\n",
        "from pyspark.ml.classification import LogisticRegression\n",
        "from pyspark.ml.classification import RandomForestClassifier\n",
        "from pyspark.ml.classification import GBTClassifier\n",
        "from pyspark.ml.classification import DecisionTreeClassifier\n",
        "from pyspark.ml.classification import NaiveBayes\n",
        "from pyspark.ml.classification import MultilayerPerceptronClassifier\n",
        "from pyspark.ml.classification import LinearSVC\n",
        "from pyspark.ml.classification import OneVsRest\n",
        "from pyspark.ml.evaluation import MulticlassClassificationEvaluator\n",
        "from pyspark.ml.tuning import ParamGridBuilder, CrossValidator\n",
        "from pyspark.ml import Pipeline\n",
        "from pyspark.ml.tuning import CrossValidatorModel\n",
        "from pyspark.ml.feature import IndexToString\n",
        "from pyspark.ml.evaluation import MulticlassClassificationEvaluator\n",
        "from pyspark.ml.evaluation import RegressionEvaluator\n",
        "from pyspark.ml.tuning import ParamGridBuilder, CrossValidator\n",
        "from pyspark.ml.regression import LinearRegression, RandomForestRegressor, GBTRegressor\n",
        "\n",
        "# importamos funciones auxiliares\n",
        "# from filter_datasets import *\n",
        "# from process_2008_data import *\n",
        "from models import *\n"
      ]
    },
    {
      "cell_type": "code",
      "execution_count": 2,
      "metadata": {
        "id": "aVdthbGa9jQP"
      },
      "outputs": [],
      "source": [
        "# se crea la sesion de spark\n",
        "spark = SparkSession.builder.appName(\"proyecto\").getOrCreate()\n"
      ]
    },
    {
      "cell_type": "code",
      "execution_count": 3,
      "metadata": {
        "id": "reWImfUX9jQP"
      },
      "outputs": [],
      "source": [
        "# file_configs = [\n",
        "#     {\"input\": \"airports.csv\", \"output\": \"filtered_airports.csv\", \"columns\": [\"iata\"]},\n",
        "#     {\"input\": \"carriers.csv\", \"output\": \"filtered_carriers.csv\", \"columns\": [\"Code\"]},\n",
        "#     {\n",
        "#         \"input\": \"plane-data.csv\",\n",
        "#         \"output\": \"filtered_plane_data.csv\",\n",
        "#         \"columns\": [\"tailnum\"],\n",
        "#     },\n",
        "# ]\n",
        "\n",
        "# # Process each file\n",
        "# for config in file_configs:\n",
        "#     filter_columns(config[\"input\"], config[\"output\"], config[\"columns\"])"
      ]
    },
    {
      "cell_type": "code",
      "execution_count": 4,
      "metadata": {
        "id": "x-b-6HR_9jQP"
      },
      "outputs": [],
      "source": [
        "# Input and output file paths\n",
        "# input_2008_file = \"2008.csv\"\n",
        "# input_plane_file = \"plane-data.csv\"\n",
        "# output_file = \"processed_2008.csv\"\n",
        "# #original_col = [Year,Month,DayofMonth,DayOfWeek,DepTime,CRSDepTime,ArrTime,CRSArrTime,UniqueCarrier,FlightNum,TailNum,ActualElapsedTime,CRSElapsedTime,AirTime,ArrDelay,DepDelay,Origin,Dest,Distance,TaxiIn,TaxiOut,Cancelled,CancellationCode,Diverted,CarrierDelay,WeatherDelay,NASDelay,SecurityDelay,LateAircraftDelay]\n",
        "# # Run the function\n",
        "# process_2008_data(input_2008_file, input_plane_file, output_file)"
      ]
    },
    {
      "cell_type": "code",
      "execution_count": 5,
      "metadata": {
        "colab": {
          "base_uri": "https://localhost:8080/"
        },
        "id": "CUSCNKU_9jQP",
        "outputId": "d4e90935-de66-42f5-cc12-2ba59a49f6dd"
      },
      "outputs": [
        {
          "output_type": "stream",
          "name": "stdout",
          "text": [
            "root\n",
            " |-- Month: integer (nullable = true)\n",
            " |-- DayofMonth: integer (nullable = true)\n",
            " |-- DayOfWeek: integer (nullable = true)\n",
            " |-- DepTime: double (nullable = true)\n",
            " |-- CRSDepTime: integer (nullable = true)\n",
            " |-- ArrTime: double (nullable = true)\n",
            " |-- CRSArrTime: integer (nullable = true)\n",
            " |-- UniqueCarrier: string (nullable = true)\n",
            " |-- TailNum: string (nullable = true)\n",
            " |-- IssueDate: string (nullable = true)\n",
            " |-- CRSElapsedTime: double (nullable = true)\n",
            " |-- ArrDelay: double (nullable = true)\n",
            " |-- DepDelay: double (nullable = true)\n",
            " |-- Origin: string (nullable = true)\n",
            " |-- Dest: string (nullable = true)\n",
            " |-- Cancelled: integer (nullable = true)\n",
            "\n",
            "+-----+----------+---------+-------+----------+-------+----------+-------------+-------+----------+--------------+--------+--------+------+----+---------+\n",
            "|Month|DayofMonth|DayOfWeek|DepTime|CRSDepTime|ArrTime|CRSArrTime|UniqueCarrier|TailNum| IssueDate|CRSElapsedTime|ArrDelay|DepDelay|Origin|Dest|Cancelled|\n",
            "+-----+----------+---------+-------+----------+-------+----------+-------------+-------+----------+--------------+--------+--------+------+----+---------+\n",
            "|    1|         3|        4| 1343.0|      1325| 1451.0|      1435|           WN| N240WN|07/11/2006|          70.0|    16.0|    18.0|   HOU| LIT|        0|\n",
            "|    1|         3|        4| 1125.0|      1120| 1247.0|      1245|           WN| N523SW|02/11/1992|          85.0|     2.0|     5.0|   HOU| MAF|        0|\n",
            "|    1|         3|        4| 2009.0|      2015| 2136.0|      2140|           WN| N280WN|06/26/2007|          85.0|    -4.0|    -6.0|   HOU| MAF|        0|\n",
            "|    1|         3|        4|  903.0|       855| 1203.0|      1205|           WN| N308SA|03/30/1999|         130.0|    -2.0|     8.0|   HOU| MCO|        0|\n",
            "|    1|         3|        4| 1423.0|      1400| 1726.0|      1710|           WN| N462WN|07/01/2004|         130.0|    16.0|    23.0|   HOU| MCO|        0|\n",
            "+-----+----------+---------+-------+----------+-------+----------+-------------+-------+----------+--------------+--------+--------+------+----+---------+\n",
            "only showing top 5 rows\n",
            "\n",
            "+-------+------------------+------------------+------------------+------------------+------------------+------------------+------------------+------------------+-----------------+\n",
            "|summary|             Month|        DayofMonth|         DayOfWeek|           DepTime|        CRSDepTime|        CRSArrTime|    CRSElapsedTime|          ArrDelay|         DepDelay|\n",
            "+-------+------------------+------------------+------------------+------------------+------------------+------------------+------------------+------------------+-----------------+\n",
            "|  count|           2319119|           2319119|           2319119|           2319119|           2319119|           2319119|           2319119|           2319119|          2319119|\n",
            "|   mean|2.5108219974912886|15.696145820891468| 3.915920226603292|1340.1096429290606|1329.2759694521928|1495.8505165107956|129.73450349033405|10.273557760511643| 11.3891602802616|\n",
            "| stddev| 1.123481238088058|  8.74486989575258|1.9826400916883198|480.24256522196316|  466.063132822978|484.81330162228943| 69.71684399087988|39.634297954163465|36.42260170530737|\n",
            "|    min|                 1|                 1|                 1|               1.0|                 0|                 1|             -21.0|             -91.0|            -92.0|\n",
            "|    max|                 4|                31|                 7|            2400.0|              2359|              2359|             660.0|            2461.0|           2467.0|\n",
            "+-------+------------------+------------------+------------------+------------------+------------------+------------------+------------------+------------------+-----------------+\n",
            "\n",
            "Cantidad de valores nulos por columna:\n",
            "+-----+----------+---------+-------+----------+-------+----------+-------------+-------+---------+--------------+--------+--------+------+----+---------+\n",
            "|Month|DayofMonth|DayOfWeek|DepTime|CRSDepTime|ArrTime|CRSArrTime|UniqueCarrier|TailNum|IssueDate|CRSElapsedTime|ArrDelay|DepDelay|Origin|Dest|Cancelled|\n",
            "+-----+----------+---------+-------+----------+-------+----------+-------------+-------+---------+--------------+--------+--------+------+----+---------+\n",
            "|    0|         0|        0|      0|         0|      0|         0|            0|      0|   192053|             0|       0|       0|     0|   0|        0|\n",
            "+-----+----------+---------+-------+----------+-------+----------+-------------+-------+---------+--------------+--------+--------+------+----+---------+\n",
            "\n",
            "Distribución de valores únicos para la columna UniqueCarrier:\n",
            "+-------------+------+\n",
            "|UniqueCarrier| count|\n",
            "+-------------+------+\n",
            "|           WN|393732|\n",
            "|           AA|193114|\n",
            "|           OO|187917|\n",
            "|           MQ|158426|\n",
            "|           US|150891|\n",
            "+-------------+------+\n",
            "only showing top 5 rows\n",
            "\n",
            "Distribución de valores únicos para la columna TailNum:\n",
            "+-------+-----+\n",
            "|TailNum|count|\n",
            "+-------+-----+\n",
            "| N693BR| 1522|\n",
            "| N476HA| 1490|\n",
            "| N646BR| 1481|\n",
            "| N485HA| 1441|\n",
            "| N486HA| 1439|\n",
            "+-------+-----+\n",
            "only showing top 5 rows\n",
            "\n",
            "Distribución de valores únicos para la columna Origin:\n",
            "+------+------+\n",
            "|Origin| count|\n",
            "+------+------+\n",
            "|   ATL|133852|\n",
            "|   ORD|109196|\n",
            "|   DFW| 88575|\n",
            "|   DEN| 77025|\n",
            "|   LAX| 72096|\n",
            "+------+------+\n",
            "only showing top 5 rows\n",
            "\n",
            "Distribución de valores únicos para la columna Dest:\n",
            "+----+------+\n",
            "|Dest| count|\n",
            "+----+------+\n",
            "| ATL|133521|\n",
            "| ORD|108746|\n",
            "| DFW| 88146|\n",
            "| DEN| 77012|\n",
            "| LAX| 72079|\n",
            "+----+------+\n",
            "only showing top 5 rows\n",
            "\n",
            "Estadísticas descriptivas de la variable objetivo (ArrDelay):\n",
            "+-------+------------------+\n",
            "|summary|          ArrDelay|\n",
            "+-------+------------------+\n",
            "|  count|           2319119|\n",
            "|   mean|10.273557760511643|\n",
            "| stddev|39.634297954163465|\n",
            "|    min|             -91.0|\n",
            "|    max|            2461.0|\n",
            "+-------+------------------+\n",
            "\n",
            "Matriz de correlación:\n",
            "DenseMatrix([[ 1.00000000e+00, -3.06654147e-03, -7.72262596e-04,\n",
            "              -6.11328363e-03, -2.15315362e-03, -5.70959346e-03,\n",
            "              -3.59815175e-03, -3.35830115e-02, -3.34860756e-02],\n",
            "             [-3.06654147e-03,  1.00000000e+00, -3.50384783e-02,\n",
            "              -2.73968632e-03, -1.03577706e-03, -9.97021280e-04,\n",
            "              -2.92181337e-03, -2.39965427e-02, -2.46481177e-02],\n",
            "             [-7.72262596e-04, -3.50384783e-02,  1.00000000e+00,\n",
            "               8.20002492e-03,  9.76798545e-03,  7.79876340e-03,\n",
            "               1.58785899e-02, -4.34667240e-04,  6.87592382e-03],\n",
            "             [-6.11328363e-03, -2.73968632e-03,  8.20002492e-03,\n",
            "               1.00000000e+00,  9.67088939e-01,  7.83182966e-01,\n",
            "              -1.69475933e-02,  1.75951418e-01,  2.05235664e-01],\n",
            "             [-2.15315362e-03, -1.03577706e-03,  9.76798545e-03,\n",
            "               9.67088939e-01,  1.00000000e+00,  7.80321563e-01,\n",
            "              -1.31752406e-02,  1.07579877e-01,  1.34557026e-01],\n",
            "             [-5.70959346e-03, -9.97021280e-04,  7.79876340e-03,\n",
            "               7.83182966e-01,  7.80321563e-01,  1.00000000e+00,\n",
            "               4.83791358e-02,  1.04888815e-01,  1.29201079e-01],\n",
            "             [-3.59815175e-03, -2.92181337e-03,  1.58785899e-02,\n",
            "              -1.69475933e-02, -1.31752406e-02,  4.83791358e-02,\n",
            "               1.00000000e+00, -1.92417641e-03,  2.28669550e-02],\n",
            "             [-3.35830115e-02, -2.39965427e-02, -4.34667240e-04,\n",
            "               1.75951418e-01,  1.07579877e-01,  1.04888815e-01,\n",
            "              -1.92417641e-03,  1.00000000e+00,  9.33670981e-01],\n",
            "             [-3.34860756e-02, -2.46481177e-02,  6.87592382e-03,\n",
            "               2.05235664e-01,  1.34557026e-01,  1.29201079e-01,\n",
            "               2.28669550e-02,  9.33670981e-01,  1.00000000e+00]])\n"
          ]
        }
      ],
      "source": [
        "# EDA\n",
        "# se carga el dataset\n",
        "df = spark.read.csv(\"processed_2008.csv\", header=True, inferSchema=True)\n",
        "# Mostrar esquema de las columnas\n",
        "df.printSchema()\n",
        "\n",
        "# Mostrar los primeros registros\n",
        "df.show(5)\n",
        "\n",
        "# 1. Resumen estadístico de las columnas numéricas\n",
        "numerical_cols = [\n",
        "    \"Month\",\n",
        "    \"DayofMonth\",\n",
        "    \"DayOfWeek\",\n",
        "    \"DepTime\",\n",
        "    \"CRSDepTime\",\n",
        "    \"CRSArrTime\",\n",
        "    \"CRSElapsedTime\",\n",
        "    \"ArrDelay\",\n",
        "    \"DepDelay\",\n",
        "]\n",
        "df.select(numerical_cols).describe().show()\n",
        "\n",
        "# 2. Inspección de valores nulos o faltantes\n",
        "missing_data = df.select(\n",
        "    [count(when(isnan(c) | col(c).isNull(), c)).alias(c) for c in df.columns]\n",
        ")\n",
        "print(\"Cantidad de valores nulos por columna:\")\n",
        "missing_data.show()\n",
        "\n",
        "# 3. Inspección de columnas categóricas\n",
        "categorical_cols = [\"UniqueCarrier\", \"TailNum\", \"Origin\", \"Dest\"]\n",
        "for col_name in categorical_cols:\n",
        "    print(f\"Distribución de valores únicos para la columna {col_name}:\")\n",
        "    df.groupBy(col_name).count().orderBy(\"count\", ascending=False).show(5)\n",
        "\n",
        "# 4. Inspección específica de la variable objetivo (ArrDelay)\n",
        "print(\"Estadísticas descriptivas de la variable objetivo (ArrDelay):\")\n",
        "df.select(\"ArrDelay\").describe().show()\n",
        "\n",
        "# 5. Identificar correlaciones básicas (opcional, solo entre columnas numéricas)\n",
        "from pyspark.ml.stat import Correlation\n",
        "from pyspark.ml.feature import VectorAssembler\n",
        "\n",
        "assembler = VectorAssembler(inputCols=numerical_cols, outputCol=\"features\")\n",
        "vector_df = assembler.transform(df).select(\"features\")\n",
        "correlation_matrix = Correlation.corr(vector_df, \"features\").head()[0]\n",
        "print(\"Matriz de correlación:\")\n",
        "print(correlation_matrix)"
      ]
    },
    {
      "cell_type": "code",
      "execution_count": 6,
      "metadata": {
        "id": "2NuelG61-vp5"
      },
      "outputs": [],
      "source": [
        "# elimeinamos los nulos en la columna ArrDelay\n",
        "df = df.filter(df[\"ArrDelay\"].isNotNull())"
      ]
    },
    {
      "cell_type": "code",
      "execution_count": 7,
      "metadata": {
        "colab": {
          "base_uri": "https://localhost:8080/"
        },
        "id": "7w9lHewE-_ps",
        "outputId": "e640ff4b-21b1-4070-8828-e98c1a4fea70"
      },
      "outputs": [
        {
          "output_type": "stream",
          "name": "stdout",
          "text": [
            "Cantidad de valores nulos por columna:\n",
            "+-----+----------+---------+-------+----------+-------+----------+-------------+-------+---------+--------------+--------+--------+------+----+---------+\n",
            "|Month|DayofMonth|DayOfWeek|DepTime|CRSDepTime|ArrTime|CRSArrTime|UniqueCarrier|TailNum|IssueDate|CRSElapsedTime|ArrDelay|DepDelay|Origin|Dest|Cancelled|\n",
            "+-----+----------+---------+-------+----------+-------+----------+-------------+-------+---------+--------------+--------+--------+------+----+---------+\n",
            "|    0|         0|        0|      0|         0|      0|         0|            0|      0|   192053|             0|       0|       0|     0|   0|        0|\n",
            "+-----+----------+---------+-------+----------+-------+----------+-------------+-------+---------+--------------+--------+--------+------+----+---------+\n",
            "\n"
          ]
        }
      ],
      "source": [
        "missing_data = df.select(\n",
        "    [count(when(isnan(c) | col(c).isNull(), c)).alias(c) for c in df.columns]\n",
        ")\n",
        "print(\"Cantidad de valores nulos por columna:\")\n",
        "missing_data.show()\n"
      ]
    },
    {
      "cell_type": "code",
      "execution_count": 8,
      "metadata": {
        "id": "HxZY22Kl6dvl",
        "outputId": "0ed7f6e4-54e3-4fe0-aafd-320c82b40250",
        "colab": {
          "base_uri": "https://localhost:8080/"
        }
      },
      "outputs": [
        {
          "output_type": "stream",
          "name": "stdout",
          "text": [
            "+------------------------------------------------------------------------------------------------------------------------------------------------------------------------------------+--------+\n",
            "|features                                                                                                                                                                            |ArrDelay|\n",
            "+------------------------------------------------------------------------------------------------------------------------------------------------------------------------------------+--------+\n",
            "|[0.0,0.06666666666666667,0.5,0.5593997498957899,0.5616786774056803,0.6081424936386768,0.13362701908957414,0.04298554122704182,0.5,0.5,0.0,0.13448275862068965,0.27241379310344827]  |16.0    |\n",
            "|[0.0,0.06666666666666667,0.5,0.468528553563985,0.47477744807121663,0.5275657336726038,0.15565345080763582,0.03790543180930051,0.5,0.5,0.0,0.13448275862068965,0.4103448275862069]   |2.0     |\n",
            "|[0.0,0.06666666666666667,0.5,0.8370154230929554,0.854175498092412,0.9071246819338422,0.15565345080763582,0.03360687768659633,0.5,0.5,0.0,0.13448275862068965,0.4103448275862069]    |-4.0    |\n",
            "|[0.0,0.06666666666666667,0.5,0.3759899958315965,0.36244171259008057,0.5106022052586938,0.22173274596182083,0.039077764751856196,0.5,0.5,0.0,0.13448275862068965,0.03793103448275862]|-2.0    |\n",
            "|[0.0,0.06666666666666667,0.5,0.5927469779074614,0.5934718100890207,0.7247667514843087,0.22173274596182083,0.044939429464634625,0.5,0.5,0.0,0.13448275862068965,0.03793103448275862] |16.0    |\n",
            "|[0.0,0.06666666666666667,0.5,0.8432680283451438,0.8562950402713014,0.9855810008481765,0.2143906020558003,0.03751465416178195,0.5,0.5,0.0,0.13448275862068965,0.03793103448275862]   |0.0     |\n",
            "|[0.0,0.06666666666666667,0.5,0.7303042934556065,0.7397202204323866,0.8689567430025446,0.2143906020558003,0.039077764751856196,0.5,0.5,0.0,0.13448275862068965,0.03793103448275862]  |3.0     |\n",
            "|[0.0,0.06666666666666667,0.5,0.25885785744060025,0.26282323018228065,0.3939779474130619,0.22173274596182083,0.03673309886674483,0.5,0.5,0.0,0.13448275862068965,0.03793103448275862]|5.0     |\n",
            "|[0.0,0.06666666666666667,0.5,0.8099208003334722,0.824501907587961,0.9389312977099237,0.2511013215859031,0.035560765924189136,0.5,0.5,0.0,0.13448275862068965,0.0793103448275862]    |-5.0    |\n",
            "|[0.0,0.06666666666666667,0.5,0.6052521884118383,0.6040695209834676,0.6993214588634435,0.2437591776798825,0.04689331770222743,0.5,0.5,0.0,0.13448275862068965,0.0793103448275862]    |26.0    |\n",
            "|[0.0,0.06666666666666667,0.5,0.8457690704460192,0.854175498092412,0.9516539440203562,0.2511013215859031,0.041813208284486134,0.5,0.5,0.0,0.13448275862068965,0.0793103448275862]    |6.0     |\n",
            "|[0.0,0.06666666666666667,0.5,0.2947061275531471,0.2607036880033913,0.3558100084817642,0.2437591776798825,0.056662758890191484,0.5,0.5,0.0,0.13448275862068965,0.0793103448275862]   |56.0    |\n",
            "|[0.0,0.06666666666666667,0.5,0.7286369320550229,0.7333615938957185,0.8477523324851569,0.2511013215859031,0.04337631887456038,0.5,0.5,0.0,0.13448275862068965,0.0793103448275862]    |39.0    |\n",
            "|[0.0,0.06666666666666667,0.5,0.5068778657774072,0.5150487494701145,0.6102629346904156,0.2437591776798825,0.03673309886674483,0.5,0.5,0.0,0.13448275862068965,0.0793103448275862]    |-9.0    |\n",
            "|[0.0,0.06666666666666667,0.5,0.3972488536890371,0.39847392963119965,0.5106022052586938,0.2437591776798825,0.041422430636967565,0.5,0.5,0.0,0.13448275862068965,0.0793103448275862]  |1.0     |\n",
            "|[0.0,0.06666666666666667,0.5,0.732388495206336,0.7630351844001696,0.8053435114503816,0.11894273127753303,0.035169988276670575,0.5,0.5,0.0,0.13448275862068965,0.16206896551724137]  |-6.0    |\n",
            "|[0.0,0.06666666666666667,0.5,0.9208003334722802,0.8986858838490887,0.9389312977099237,0.11160058737151247,0.0554904259476358,0.5,0.5,0.0,0.13448275862068965,0.16206896551724137]   |50.0    |\n",
            "|[0.0,0.06666666666666667,0.5,0.30804501875781576,0.31369224247562527,0.3558100084817642,0.11894273127753303,0.0359515435717077,0.5,0.5,0.0,0.13448275862068965,0.16206896551724137] |-4.0    |\n",
            "|[0.0,0.06666666666666667,0.5,0.4210087536473531,0.42602797795676134,0.4681933842239186,0.11894273127753303,0.03829620945681907,0.5,0.5,0.0,0.13448275862068965,0.16206896551724137] |11.0    |\n",
            "|[0.0,0.06666666666666667,0.5,0.6715298040850355,0.6443408223823655,0.686598812553011,0.11894273127753303,0.05627198124267292,0.5,0.5,0.0,0.13448275862068965,0.16206896551724137]   |47.0    |\n",
            "+------------------------------------------------------------------------------------------------------------------------------------------------------------------------------------+--------+\n",
            "only showing top 20 rows\n",
            "\n"
          ]
        }
      ],
      "source": [
        "from pyspark.sql.functions import col, year, avg, when, lit, coalesce\n",
        "from pyspark.ml.feature import StringIndexer, VectorAssembler, MinMaxScaler\n",
        "\n",
        "current_year = 2008  # Ajustar según el año actual\n",
        "data = df.withColumn(\n",
        "    \"PlaneAge\",\n",
        "    when(col(\"IssueDate\").isNotNull(), current_year - year(col(\"IssueDate\"))).otherwise(\n",
        "        None\n",
        "    ),\n",
        ")\n",
        "# Rellenar nulos en PlaneAge con la media\n",
        "avg_age = data.select(avg(\"PlaneAge\")).first()[0]\n",
        "data = data.withColumn(\n",
        "    \"PlaneAge\", when(col(\"PlaneAge\").isNull(), avg_age).otherwise(col(\"PlaneAge\"))\n",
        ")\n",
        "\n",
        "# Convertir columnas categóricas a índices numéricos\n",
        "categorical_columns = [\"UniqueCarrier\", \"Origin\", \"Dest\"]\n",
        "indexers = [\n",
        "    StringIndexer(inputCol=col, outputCol=f\"{col}_Index\") for col in categorical_columns\n",
        "]\n",
        "for indexer in indexers:\n",
        "    data = indexer.fit(data).transform(data)\n",
        "\n",
        "# Eliminar columnas originales categóricas\n",
        "data = data.drop(*categorical_columns)\n",
        "\n",
        "# Normalizar los valores\n",
        "feature_columns = [\n",
        "    \"Month\",\n",
        "    \"DayofMonth\",\n",
        "    \"DayOfWeek\",\n",
        "    \"DepTime\",\n",
        "    \"CRSDepTime\",\n",
        "    \"CRSArrTime\",\n",
        "    \"CRSElapsedTime\",\n",
        "    \"DepDelay\",\n",
        "    \"Cancelled\",\n",
        "    \"PlaneAge\",\n",
        "    \"UniqueCarrier_Index\",\n",
        "    \"Origin_Index\",\n",
        "    \"Dest_Index\",\n",
        "]\n",
        "\n",
        "# Impute nulls with 0 before assembling the features\n",
        "# This will prevent the MinMaxScaler from failing\n",
        "for col_name in feature_columns:\n",
        "    data = data.withColumn(col_name, coalesce(col(col_name), lit(0)))\n",
        "\n",
        "assembler = VectorAssembler(inputCols=feature_columns, outputCol=\"features_assembled\")\n",
        "data = assembler.transform(data)\n",
        "\n",
        "scaler = MinMaxScaler(inputCol=\"features_assembled\", outputCol=\"features\")\n",
        "scaler_model = scaler.fit(data)\n",
        "data = scaler_model.transform(data)\n",
        "\n",
        "# Seleccionar columnas finales (incluye la normalizada y la variable objetivo)\n",
        "df = data.select(\"features\", \"ArrDelay\")\n",
        "\n",
        "# Mostrar algunas filas del conjunto preprocesado\n",
        "df.show(truncate=False)"
      ]
    },
    {
      "cell_type": "code",
      "execution_count": 9,
      "metadata": {
        "id": "Y-dasLUJ9jQQ"
      },
      "outputs": [],
      "source": [
        "# Se crea un vector con las columnas que se van a utilizar\n",
        "features = df.columns\n",
        "features.remove(\"ArrDelay\")\n",
        "from pyspark.sql.functions import col\n",
        "# Se convierte la variable target a numérica\n",
        "# df = df.withColumn(\"ArrDelay\", df[\"ArrDelay\"].cast(IntegerType()))\n",
        "# df = df.withColumn(\"ArrDelay\", when(col(\"ArrDelay\") > 15, 1).otherwise(0)) # 1 si el vuelo se retrasó más de 15 minutos, 0 si no\n",
        "# df = df.withColumn(\"ArrDelay\", df[\"ArrDelay\"].cast(IntegerType()))\n"
      ]
    },
    {
      "cell_type": "code",
      "execution_count": 10,
      "metadata": {
        "colab": {
          "base_uri": "https://localhost:8080/"
        },
        "id": "WFzxywhED1Jr",
        "outputId": "3d968975-3249-4539-dede-c4760c2eb8eb"
      },
      "outputs": [
        {
          "output_type": "stream",
          "name": "stdout",
          "text": [
            "Primeras filas del dataframe:\n",
            "+--------------------+--------+\n",
            "|            features|ArrDelay|\n",
            "+--------------------+--------+\n",
            "|[0.0,0.0666666666...|    16.0|\n",
            "|[0.0,0.0666666666...|     2.0|\n",
            "|[0.0,0.0666666666...|    -4.0|\n",
            "|[0.0,0.0666666666...|    -2.0|\n",
            "|[0.0,0.0666666666...|    16.0|\n",
            "+--------------------+--------+\n",
            "only showing top 5 rows\n",
            "\n"
          ]
        }
      ],
      "source": [
        "print(\"Primeras filas del dataframe:\")\n",
        "df.show(5)"
      ]
    },
    {
      "cell_type": "code",
      "execution_count": 11,
      "metadata": {
        "id": "X485XwoLD9o1"
      },
      "outputs": [],
      "source": [
        "# # eliminamos las filas que hemos indexado\n",
        "# df = df.drop(*[\"UniqueCarrier\", \"TailNum\", \"Origin\", \"Dest\"])"
      ]
    },
    {
      "cell_type": "code",
      "execution_count": 12,
      "metadata": {
        "id": "rOwXztKOESSO"
      },
      "outputs": [],
      "source": [
        "# Dividir los datos en entrenamiento y prueba\n",
        "train_data, test_data = df.randomSplit([0.8, 0.2], seed=42)\n",
        "\n"
      ]
    },
    {
      "cell_type": "code",
      "execution_count": 13,
      "metadata": {
        "id": "fRnyrkvt6dvn",
        "outputId": "ee1799fe-1184-4599-9eb0-b5b94010da24",
        "colab": {
          "base_uri": "https://localhost:8080/"
        }
      },
      "outputs": [
        {
          "output_type": "stream",
          "name": "stdout",
          "text": [
            "\n",
            "Resultados del modelo LinearRegression:\n",
            "+--------+------------------+\n",
            "|ArrDelay|prediction        |\n",
            "+--------+------------------+\n",
            "|60.0    |62.26202041735425 |\n",
            "|163.0   |168.64584399515618|\n",
            "|162.0   |170.47209558614256|\n",
            "|172.0   |171.2217331357149 |\n",
            "|140.0   |144.29143715341334|\n",
            "|26.0    |0.7960002960486889|\n",
            "|11.0    |16.539858124774085|\n",
            "|20.0    |13.642598816385672|\n",
            "|-23.0   |-9.32566518111362 |\n",
            "|172.0   |172.26266830300213|\n",
            "+--------+------------------+\n",
            "only showing top 10 rows\n",
            "\n"
          ]
        }
      ],
      "source": [
        "# Modelo 1: Regresión Lineal\n",
        "lr = LinearRegression(featuresCol=\"features\", labelCol=\"ArrDelay\")\n",
        "param_grid_lr = (\n",
        "    ParamGridBuilder()\n",
        "    .addGrid(lr.regParam, [0.01, 0.1, 0.5])\n",
        "    .addGrid(lr.elasticNetParam, [0.0, 0.5, 1.0])\n",
        "    .build()\n",
        ")\n",
        "\n",
        "best_lr_model, rmse_lr = train_and_evaluate(lr, param_grid_lr, train_data, test_data)\n",
        "\n"
      ]
    },
    {
      "cell_type": "code",
      "source": [],
      "metadata": {
        "id": "aQKD_UIhV5ui"
      },
      "execution_count": 13,
      "outputs": []
    },
    {
      "cell_type": "code",
      "execution_count": 14,
      "metadata": {
        "id": "kxO_Aw5R6dvn",
        "outputId": "3dec70f2-0eba-4555-85f9-46d52b359807",
        "colab": {
          "base_uri": "https://localhost:8080/",
          "height": 408
        }
      },
      "outputs": [
        {
          "output_type": "error",
          "ename": "KeyboardInterrupt",
          "evalue": "",
          "traceback": [
            "\u001b[0;31m---------------------------------------------------------------------------\u001b[0m",
            "\u001b[0;31mIndexError\u001b[0m                                Traceback (most recent call last)",
            "\u001b[0;32m/usr/lib/python3.10/multiprocessing/pool.py\u001b[0m in \u001b[0;36mnext\u001b[0;34m(self, timeout)\u001b[0m\n\u001b[1;32m    855\u001b[0m             \u001b[0;32mtry\u001b[0m\u001b[0;34m:\u001b[0m\u001b[0;34m\u001b[0m\u001b[0;34m\u001b[0m\u001b[0m\n\u001b[0;32m--> 856\u001b[0;31m                 \u001b[0mitem\u001b[0m \u001b[0;34m=\u001b[0m \u001b[0mself\u001b[0m\u001b[0;34m.\u001b[0m\u001b[0m_items\u001b[0m\u001b[0;34m.\u001b[0m\u001b[0mpopleft\u001b[0m\u001b[0;34m(\u001b[0m\u001b[0;34m)\u001b[0m\u001b[0;34m\u001b[0m\u001b[0;34m\u001b[0m\u001b[0m\n\u001b[0m\u001b[1;32m    857\u001b[0m             \u001b[0;32mexcept\u001b[0m \u001b[0mIndexError\u001b[0m\u001b[0;34m:\u001b[0m\u001b[0;34m\u001b[0m\u001b[0;34m\u001b[0m\u001b[0m\n",
            "\u001b[0;31mIndexError\u001b[0m: pop from an empty deque",
            "\nDuring handling of the above exception, another exception occurred:\n",
            "\u001b[0;31mKeyboardInterrupt\u001b[0m                         Traceback (most recent call last)",
            "\u001b[0;32m<ipython-input-14-293dd022c11a>\u001b[0m in \u001b[0;36m<cell line: 10>\u001b[0;34m()\u001b[0m\n\u001b[1;32m      8\u001b[0m )\n\u001b[1;32m      9\u001b[0m \u001b[0;34m\u001b[0m\u001b[0m\n\u001b[0;32m---> 10\u001b[0;31m \u001b[0mbest_rf_model\u001b[0m\u001b[0;34m,\u001b[0m \u001b[0mrmse_rf\u001b[0m \u001b[0;34m=\u001b[0m \u001b[0mtrain_and_evaluate\u001b[0m\u001b[0;34m(\u001b[0m\u001b[0mrf\u001b[0m\u001b[0;34m,\u001b[0m \u001b[0mparam_grid_rf\u001b[0m\u001b[0;34m,\u001b[0m \u001b[0mtrain_data\u001b[0m\u001b[0;34m,\u001b[0m \u001b[0mtest_data\u001b[0m\u001b[0;34m)\u001b[0m\u001b[0;34m\u001b[0m\u001b[0;34m\u001b[0m\u001b[0m\n\u001b[0m\u001b[1;32m     11\u001b[0m \u001b[0;34m\u001b[0m\u001b[0m\n",
            "\u001b[0;32m/content/models.py\u001b[0m in \u001b[0;36mtrain_and_evaluate\u001b[0;34m(model, param_grid, training_data, test_data)\u001b[0m\n\u001b[1;32m     75\u001b[0m \u001b[0;34m\u001b[0m\u001b[0m\n\u001b[1;32m     76\u001b[0m     \u001b[0;31m# Entrenar el modelo\u001b[0m\u001b[0;34m\u001b[0m\u001b[0;34m\u001b[0m\u001b[0m\n\u001b[0;32m---> 77\u001b[0;31m     \u001b[0mcv_model\u001b[0m \u001b[0;34m=\u001b[0m \u001b[0mcrossval\u001b[0m\u001b[0;34m.\u001b[0m\u001b[0mfit\u001b[0m\u001b[0;34m(\u001b[0m\u001b[0mtraining_data\u001b[0m\u001b[0;34m)\u001b[0m\u001b[0;34m\u001b[0m\u001b[0;34m\u001b[0m\u001b[0m\n\u001b[0m\u001b[1;32m     78\u001b[0m \u001b[0;34m\u001b[0m\u001b[0m\n\u001b[1;32m     79\u001b[0m     \u001b[0;31m# Evaluar en datos de prueba\u001b[0m\u001b[0;34m\u001b[0m\u001b[0;34m\u001b[0m\u001b[0m\n",
            "\u001b[0;32m/usr/local/lib/python3.10/dist-packages/pyspark/ml/base.py\u001b[0m in \u001b[0;36mfit\u001b[0;34m(self, dataset, params)\u001b[0m\n\u001b[1;32m    203\u001b[0m                 \u001b[0;32mreturn\u001b[0m \u001b[0mself\u001b[0m\u001b[0;34m.\u001b[0m\u001b[0mcopy\u001b[0m\u001b[0;34m(\u001b[0m\u001b[0mparams\u001b[0m\u001b[0;34m)\u001b[0m\u001b[0;34m.\u001b[0m\u001b[0m_fit\u001b[0m\u001b[0;34m(\u001b[0m\u001b[0mdataset\u001b[0m\u001b[0;34m)\u001b[0m\u001b[0;34m\u001b[0m\u001b[0;34m\u001b[0m\u001b[0m\n\u001b[1;32m    204\u001b[0m             \u001b[0;32melse\u001b[0m\u001b[0;34m:\u001b[0m\u001b[0;34m\u001b[0m\u001b[0;34m\u001b[0m\u001b[0m\n\u001b[0;32m--> 205\u001b[0;31m                 \u001b[0;32mreturn\u001b[0m \u001b[0mself\u001b[0m\u001b[0;34m.\u001b[0m\u001b[0m_fit\u001b[0m\u001b[0;34m(\u001b[0m\u001b[0mdataset\u001b[0m\u001b[0;34m)\u001b[0m\u001b[0;34m\u001b[0m\u001b[0;34m\u001b[0m\u001b[0m\n\u001b[0m\u001b[1;32m    206\u001b[0m         \u001b[0;32melse\u001b[0m\u001b[0;34m:\u001b[0m\u001b[0;34m\u001b[0m\u001b[0;34m\u001b[0m\u001b[0m\n\u001b[1;32m    207\u001b[0m             raise TypeError(\n",
            "\u001b[0;32m/usr/local/lib/python3.10/dist-packages/pyspark/ml/tuning.py\u001b[0m in \u001b[0;36m_fit\u001b[0;34m(self, dataset)\u001b[0m\n\u001b[1;32m    845\u001b[0m                 \u001b[0m_parallelFitTasks\u001b[0m\u001b[0;34m(\u001b[0m\u001b[0mest\u001b[0m\u001b[0;34m,\u001b[0m \u001b[0mtrain\u001b[0m\u001b[0;34m,\u001b[0m \u001b[0meva\u001b[0m\u001b[0;34m,\u001b[0m \u001b[0mvalidation\u001b[0m\u001b[0;34m,\u001b[0m \u001b[0mepm\u001b[0m\u001b[0;34m,\u001b[0m \u001b[0mcollectSubModelsParam\u001b[0m\u001b[0;34m)\u001b[0m\u001b[0;34m,\u001b[0m\u001b[0;34m\u001b[0m\u001b[0;34m\u001b[0m\u001b[0m\n\u001b[1;32m    846\u001b[0m             )\n\u001b[0;32m--> 847\u001b[0;31m             \u001b[0;32mfor\u001b[0m \u001b[0mj\u001b[0m\u001b[0;34m,\u001b[0m \u001b[0mmetric\u001b[0m\u001b[0;34m,\u001b[0m \u001b[0msubModel\u001b[0m \u001b[0;32min\u001b[0m \u001b[0mpool\u001b[0m\u001b[0;34m.\u001b[0m\u001b[0mimap_unordered\u001b[0m\u001b[0;34m(\u001b[0m\u001b[0;32mlambda\u001b[0m \u001b[0mf\u001b[0m\u001b[0;34m:\u001b[0m \u001b[0mf\u001b[0m\u001b[0;34m(\u001b[0m\u001b[0;34m)\u001b[0m\u001b[0;34m,\u001b[0m \u001b[0mtasks\u001b[0m\u001b[0;34m)\u001b[0m\u001b[0;34m:\u001b[0m\u001b[0;34m\u001b[0m\u001b[0;34m\u001b[0m\u001b[0m\n\u001b[0m\u001b[1;32m    848\u001b[0m                 \u001b[0mmetrics_all\u001b[0m\u001b[0;34m[\u001b[0m\u001b[0mi\u001b[0m\u001b[0;34m]\u001b[0m\u001b[0;34m[\u001b[0m\u001b[0mj\u001b[0m\u001b[0;34m]\u001b[0m \u001b[0;34m=\u001b[0m \u001b[0mmetric\u001b[0m\u001b[0;34m\u001b[0m\u001b[0;34m\u001b[0m\u001b[0m\n\u001b[1;32m    849\u001b[0m                 \u001b[0;32mif\u001b[0m \u001b[0mcollectSubModelsParam\u001b[0m\u001b[0;34m:\u001b[0m\u001b[0;34m\u001b[0m\u001b[0;34m\u001b[0m\u001b[0m\n",
            "\u001b[0;32m/usr/lib/python3.10/multiprocessing/pool.py\u001b[0m in \u001b[0;36mnext\u001b[0;34m(self, timeout)\u001b[0m\n\u001b[1;32m    859\u001b[0m                     \u001b[0mself\u001b[0m\u001b[0;34m.\u001b[0m\u001b[0m_pool\u001b[0m \u001b[0;34m=\u001b[0m \u001b[0;32mNone\u001b[0m\u001b[0;34m\u001b[0m\u001b[0;34m\u001b[0m\u001b[0m\n\u001b[1;32m    860\u001b[0m                     \u001b[0;32mraise\u001b[0m \u001b[0mStopIteration\u001b[0m \u001b[0;32mfrom\u001b[0m \u001b[0;32mNone\u001b[0m\u001b[0;34m\u001b[0m\u001b[0;34m\u001b[0m\u001b[0m\n\u001b[0;32m--> 861\u001b[0;31m                 \u001b[0mself\u001b[0m\u001b[0;34m.\u001b[0m\u001b[0m_cond\u001b[0m\u001b[0;34m.\u001b[0m\u001b[0mwait\u001b[0m\u001b[0;34m(\u001b[0m\u001b[0mtimeout\u001b[0m\u001b[0;34m)\u001b[0m\u001b[0;34m\u001b[0m\u001b[0;34m\u001b[0m\u001b[0m\n\u001b[0m\u001b[1;32m    862\u001b[0m                 \u001b[0;32mtry\u001b[0m\u001b[0;34m:\u001b[0m\u001b[0;34m\u001b[0m\u001b[0;34m\u001b[0m\u001b[0m\n\u001b[1;32m    863\u001b[0m                     \u001b[0mitem\u001b[0m \u001b[0;34m=\u001b[0m \u001b[0mself\u001b[0m\u001b[0;34m.\u001b[0m\u001b[0m_items\u001b[0m\u001b[0;34m.\u001b[0m\u001b[0mpopleft\u001b[0m\u001b[0;34m(\u001b[0m\u001b[0;34m)\u001b[0m\u001b[0;34m\u001b[0m\u001b[0;34m\u001b[0m\u001b[0m\n",
            "\u001b[0;32m/usr/lib/python3.10/threading.py\u001b[0m in \u001b[0;36mwait\u001b[0;34m(self, timeout)\u001b[0m\n\u001b[1;32m    318\u001b[0m         \u001b[0;32mtry\u001b[0m\u001b[0;34m:\u001b[0m    \u001b[0;31m# restore state no matter what (e.g., KeyboardInterrupt)\u001b[0m\u001b[0;34m\u001b[0m\u001b[0;34m\u001b[0m\u001b[0m\n\u001b[1;32m    319\u001b[0m             \u001b[0;32mif\u001b[0m \u001b[0mtimeout\u001b[0m \u001b[0;32mis\u001b[0m \u001b[0;32mNone\u001b[0m\u001b[0;34m:\u001b[0m\u001b[0;34m\u001b[0m\u001b[0;34m\u001b[0m\u001b[0m\n\u001b[0;32m--> 320\u001b[0;31m                 \u001b[0mwaiter\u001b[0m\u001b[0;34m.\u001b[0m\u001b[0macquire\u001b[0m\u001b[0;34m(\u001b[0m\u001b[0;34m)\u001b[0m\u001b[0;34m\u001b[0m\u001b[0;34m\u001b[0m\u001b[0m\n\u001b[0m\u001b[1;32m    321\u001b[0m                 \u001b[0mgotit\u001b[0m \u001b[0;34m=\u001b[0m \u001b[0;32mTrue\u001b[0m\u001b[0;34m\u001b[0m\u001b[0;34m\u001b[0m\u001b[0m\n\u001b[1;32m    322\u001b[0m             \u001b[0;32melse\u001b[0m\u001b[0;34m:\u001b[0m\u001b[0;34m\u001b[0m\u001b[0;34m\u001b[0m\u001b[0m\n",
            "\u001b[0;31mKeyboardInterrupt\u001b[0m: "
          ]
        }
      ],
      "source": [
        "# Modelo 2: Bosques Aleatorios\n",
        "rf = RandomForestRegressor(featuresCol=\"features\", labelCol=\"ArrDelay\")\n",
        "param_grid_rf = (\n",
        "    ParamGridBuilder()\n",
        "    .addGrid(rf.numTrees, [50, 100])\n",
        "    .addGrid(rf.maxDepth, [5, 10])\n",
        "    .build()\n",
        ")\n",
        "\n",
        "best_rf_model, rmse_rf = train_and_evaluate(rf, param_grid_rf, train_data, test_data)\n",
        "\n"
      ]
    },
    {
      "cell_type": "code",
      "execution_count": null,
      "metadata": {
        "id": "tc1aBVPg6dvn"
      },
      "outputs": [],
      "source": [
        "# Modelo 3: Gradient Boosted Trees\n",
        "gbt = GBTRegressor(featuresCol=\"features\", labelCol=\"ArrDelay\")\n",
        "param_grid_gbt = (\n",
        "    ParamGridBuilder()\n",
        "    .addGrid(gbt.maxIter, [10, 50])\n",
        "    .addGrid(gbt.maxDepth, [5, 10])\n",
        "    .build()\n",
        ")\n",
        "\n",
        "best_gbt_model, rmse_gbt = train_and_evaluate(\n",
        "    gbt, param_grid_gbt, train_data, test_data\n",
        ")\n",
        "\n"
      ]
    },
    {
      "cell_type": "code",
      "execution_count": null,
      "metadata": {
        "id": "7livHxUe6dvn"
      },
      "outputs": [],
      "source": [
        "# Comparar modelos\n",
        "results = [\n",
        "    (\"Linear Regression\", rmse_lr),\n",
        "    (\"Random Forest\", rmse_rf),\n",
        "    (\"Gradient Boosted Trees\", rmse_gbt),\n",
        "]\n",
        "results_sorted = sorted(results, key=lambda x: x[1])  # Ordenar por menor RMSE\n",
        "\n",
        "print(\"Model Comparison (RMSE):\")\n",
        "for model_name, rmse in results_sorted:\n",
        "    print(f\"{model_name}: {rmse:.3f}\")\n",
        "\n",
        "# Elegir el mejor modelo\n",
        "best_model_name, best_rmse = results_sorted[0]\n",
        "print(f\"\\nBest Model: {best_model_name} with RMSE = {best_rmse:.3f}\")"
      ]
    },
    {
      "cell_type": "code",
      "execution_count": 15,
      "metadata": {
        "colab": {
          "base_uri": "https://localhost:8080/",
          "height": 193
        },
        "id": "igZh7yz89jQQ",
        "outputId": "01715f87-9069-433f-d8da-69ed0b2591f0"
      },
      "outputs": [
        {
          "output_type": "stream",
          "name": "stdout",
          "text": [
            "['features']\n"
          ]
        },
        {
          "output_type": "error",
          "ename": "NameError",
          "evalue": "name 'target' is not defined",
          "traceback": [
            "\u001b[0;31m---------------------------------------------------------------------------\u001b[0m",
            "\u001b[0;31mNameError\u001b[0m                                 Traceback (most recent call last)",
            "\u001b[0;32m<ipython-input-15-d27481d2981e>\u001b[0m in \u001b[0;36m<cell line: 6>\u001b[0;34m()\u001b[0m\n\u001b[1;32m      4\u001b[0m \u001b[0minput_columns_lr\u001b[0m \u001b[0;34m=\u001b[0m \u001b[0;34m[\u001b[0m\u001b[0mcol\u001b[0m \u001b[0;32mfor\u001b[0m \u001b[0mcol\u001b[0m \u001b[0;32min\u001b[0m \u001b[0mdf\u001b[0m\u001b[0;34m.\u001b[0m\u001b[0mcolumns\u001b[0m \u001b[0;32mif\u001b[0m \u001b[0;34m(\u001b[0m\u001b[0mcol\u001b[0m \u001b[0;34m!=\u001b[0m \u001b[0;34m\"ArrDelay\"\u001b[0m \u001b[0;32mand\u001b[0m \u001b[0mcol\u001b[0m \u001b[0;34m!=\u001b[0m \u001b[0;34m\"IssueDate\"\u001b[0m\u001b[0;34m)\u001b[0m\u001b[0;34m]\u001b[0m\u001b[0;34m\u001b[0m\u001b[0;34m\u001b[0m\u001b[0m\n\u001b[1;32m      5\u001b[0m \u001b[0mprint\u001b[0m\u001b[0;34m(\u001b[0m\u001b[0minput_columns_lr\u001b[0m\u001b[0;34m)\u001b[0m\u001b[0;34m\u001b[0m\u001b[0;34m\u001b[0m\u001b[0m\n\u001b[0;32m----> 6\u001b[0;31m \u001b[0mmodel\u001b[0m \u001b[0;34m=\u001b[0m \u001b[0mestimate_lr\u001b[0m\u001b[0;34m(\u001b[0m\u001b[0mdf\u001b[0m\u001b[0;34m,\u001b[0m \u001b[0minput_columns_lr\u001b[0m\u001b[0;34m,\u001b[0m \u001b[0mtarget\u001b[0m\u001b[0;34m)\u001b[0m\u001b[0;34m\u001b[0m\u001b[0;34m\u001b[0m\u001b[0m\n\u001b[0m",
            "\u001b[0;31mNameError\u001b[0m: name 'target' is not defined"
          ]
        }
      ],
      "source": [
        "# linear regression\n",
        "# Uso de funciones del archivo models.py\n",
        "from models import estimate_lr, estimate_kmeans\n",
        "input_columns_lr = [col for col in df.columns if (col != \"ArrDelay\" and col != \"IssueDate\")]\n",
        "print(input_columns_lr)\n",
        "model = estimate_lr(df, input_columns_lr, target)"
      ]
    },
    {
      "cell_type": "code",
      "execution_count": null,
      "metadata": {
        "id": "j1-dfMVB9jQQ"
      },
      "outputs": [],
      "source": [
        "# kmeans\n",
        "input_columns_kmeans = [col for col in df.columns if (col != \"ArrDelay\" and col != \"IssueDate\")]\n",
        "k = 3\n",
        "kmeans_model = estimate_kmeans(df, input_columns_kmeans, k)"
      ]
    }
  ],
  "metadata": {
    "accelerator": "GPU",
    "colab": {
      "gpuType": "T4",
      "provenance": []
    },
    "kernelspec": {
      "display_name": "Python 3",
      "name": "python3"
    },
    "language_info": {
      "name": "python",
      "version": "3.11.3"
    }
  },
  "nbformat": 4,
  "nbformat_minor": 0
}