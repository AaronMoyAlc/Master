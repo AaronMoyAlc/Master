{
  "cells": [
    {
      "cell_type": "code",
      "execution_count": 3,
      "metadata": {
        "id": "hD8V7OZQ9jQN"
      },
      "outputs": [],
      "source": [
        "# importamos librerias de pyspark para realizar el preprocesado de los datos\n",
        "from pyspark.sql import SparkSession\n",
        "from pyspark.sql.functions import col, when, count, isnan, isnull, mean, round\n",
        "from pyspark.sql.types import IntegerType\n",
        "from pyspark.ml.feature import StringIndexer\n",
        "from pyspark.ml.feature import VectorAssembler\n",
        "from pyspark.ml.feature import StandardScaler\n",
        "from pyspark.ml.classification import LogisticRegression\n",
        "from pyspark.ml.classification import RandomForestClassifier\n",
        "from pyspark.ml.classification import GBTClassifier\n",
        "from pyspark.ml.classification import DecisionTreeClassifier\n",
        "from pyspark.ml.classification import NaiveBayes\n",
        "from pyspark.ml.classification import MultilayerPerceptronClassifier\n",
        "from pyspark.ml.classification import LinearSVC\n",
        "from pyspark.ml.classification import OneVsRest\n",
        "from pyspark.ml.evaluation import MulticlassClassificationEvaluator\n",
        "from pyspark.ml.tuning import ParamGridBuilder, CrossValidator\n",
        "from pyspark.ml import Pipeline\n",
        "from pyspark.ml.tuning import CrossValidatorModel\n",
        "from pyspark.ml.feature import IndexToString\n",
        "from pyspark.ml.evaluation import MulticlassClassificationEvaluator\n",
        "\n",
        "# importamos funciones auxiliares\n",
        "# from filter_datasets import *\n",
        "# from process_2008_data import *\n",
        "from models import *\n"
      ]
    },
    {
      "cell_type": "code",
      "execution_count": 4,
      "metadata": {
        "id": "aVdthbGa9jQP"
      },
      "outputs": [],
      "source": [
        "# se crea la sesion de spark\n",
        "spark = SparkSession.builder.appName(\"proyecto\").getOrCreate()\n"
      ]
    },
    {
      "cell_type": "code",
      "execution_count": null,
      "metadata": {
        "id": "reWImfUX9jQP"
      },
      "outputs": [],
      "source": [
        "file_configs = [\n",
        "    {\"input\": \"airports.csv\", \"output\": \"filtered_airports.csv\", \"columns\": [\"iata\"]},\n",
        "    {\"input\": \"carriers.csv\", \"output\": \"filtered_carriers.csv\", \"columns\": [\"Code\"]},\n",
        "    {\n",
        "        \"input\": \"plane-data.csv\",\n",
        "        \"output\": \"filtered_plane_data.csv\",\n",
        "        \"columns\": [\"tailnum\"],\n",
        "    },\n",
        "]\n",
        "\n",
        "# Process each file\n",
        "for config in file_configs:\n",
        "    filter_columns(config[\"input\"], config[\"output\"], config[\"columns\"])"
      ]
    },
    {
      "cell_type": "code",
      "execution_count": null,
      "metadata": {
        "id": "x-b-6HR_9jQP"
      },
      "outputs": [],
      "source": [
        "# Input and output file paths\n",
        "input_2008_file = \"2008.csv\"\n",
        "input_plane_file = \"plane-data.csv\"\n",
        "output_file = \"processed_2008.csv\"\n",
        "#original_col = [Year,Month,DayofMonth,DayOfWeek,DepTime,CRSDepTime,ArrTime,CRSArrTime,UniqueCarrier,FlightNum,TailNum,ActualElapsedTime,CRSElapsedTime,AirTime,ArrDelay,DepDelay,Origin,Dest,Distance,TaxiIn,TaxiOut,Cancelled,CancellationCode,Diverted,CarrierDelay,WeatherDelay,NASDelay,SecurityDelay,LateAircraftDelay]\n",
        "# Run the function\n",
        "process_2008_data(input_2008_file, input_plane_file, output_file)"
      ]
    },
    {
      "cell_type": "code",
      "execution_count": 12,
      "metadata": {
        "id": "CUSCNKU_9jQP",
        "outputId": "000471c0-ebf1-4292-cdcb-fe56ef283582",
        "colab": {
          "base_uri": "https://localhost:8080/"
        }
      },
      "outputs": [
        {
          "output_type": "stream",
          "name": "stdout",
          "text": [
            "root\n",
            " |-- Month: integer (nullable = true)\n",
            " |-- DayofMonth: integer (nullable = true)\n",
            " |-- DayOfWeek: integer (nullable = true)\n",
            " |-- DepTime: double (nullable = true)\n",
            " |-- CRSDepTime: integer (nullable = true)\n",
            " |-- ArrTime: double (nullable = true)\n",
            " |-- CRSArrTime: integer (nullable = true)\n",
            " |-- UniqueCarrier: string (nullable = true)\n",
            " |-- TailNum: string (nullable = true)\n",
            " |-- IssueDate: string (nullable = true)\n",
            " |-- CRSElapsedTime: double (nullable = true)\n",
            " |-- ArrDelay: double (nullable = true)\n",
            " |-- DepDelay: double (nullable = true)\n",
            " |-- Origin: string (nullable = true)\n",
            " |-- Dest: string (nullable = true)\n",
            " |-- Cancelled: integer (nullable = true)\n",
            "\n"
          ]
        }
      ],
      "source": [
        "# EDA\n",
        "# se carga el dataset\n",
        "df = spark.read.csv(\"processed_2008.csv\", header=True, inferSchema=True)\n",
        "cols = (\n",
        "    df.columns\n",
        ")  # Month,DayofMonth,DayOfWeek,DepTime,CRSDepTime,ArrTime,CRSArrTime,UniqueCarrier,TailNum,IssueDate,CRSElapsedTime,ArrDelay,DepDelay,Origin,Dest,Cancelled\n",
        "\n",
        "target = \"ArrDelay\"\n",
        "df.printSchema()"
      ]
    },
    {
      "cell_type": "code",
      "execution_count": 13,
      "metadata": {
        "id": "2aGX07ER9jQQ",
        "outputId": "b4644d20-e829-4313-cc89-53e6cc7ab29b",
        "colab": {
          "base_uri": "https://localhost:8080/"
        }
      },
      "outputs": [
        {
          "output_type": "stream",
          "name": "stdout",
          "text": [
            "Month 0\n",
            "DayofMonth 0\n",
            "DayOfWeek 0\n",
            "DepTime 0\n",
            "CRSDepTime 0\n",
            "ArrTime 0\n",
            "CRSArrTime 0\n",
            "UniqueCarrier 0\n",
            "TailNum 0\n",
            "IssueDate 192053\n",
            "CRSElapsedTime 0\n",
            "ArrDelay 0\n",
            "DepDelay 0\n",
            "Origin 0\n",
            "Dest 0\n",
            "Cancelled 0\n"
          ]
        }
      ],
      "source": [
        "# comprueba si hay valores nulos\n",
        "for col in cols:\n",
        "    print(col, df.filter(df[col].isNull()).count())\n",
        ""
      ]
    },
    {
      "cell_type": "code",
      "source": [
        "# elimeinamos los nulos en la columna ArrDelay\n",
        "df = df.filter(df[\"ArrDelay\"].isNotNull())"
      ],
      "metadata": {
        "id": "2NuelG61-vp5"
      },
      "execution_count": 14,
      "outputs": []
    },
    {
      "cell_type": "code",
      "source": [
        "# comprueba si hay valores nulos\n",
        "for col in cols:\n",
        "    print(col, df.filter(df[col].isNull()).count())"
      ],
      "metadata": {
        "id": "7w9lHewE-_ps",
        "outputId": "a1814a48-7cdd-4006-c4dd-8b3288e6cdd9",
        "colab": {
          "base_uri": "https://localhost:8080/"
        }
      },
      "execution_count": 15,
      "outputs": [
        {
          "output_type": "stream",
          "name": "stdout",
          "text": [
            "Month 0\n",
            "DayofMonth 0\n",
            "DayOfWeek 0\n",
            "DepTime 0\n",
            "CRSDepTime 0\n",
            "ArrTime 0\n",
            "CRSArrTime 0\n",
            "UniqueCarrier 0\n",
            "TailNum 0\n",
            "IssueDate 192053\n",
            "CRSElapsedTime 0\n",
            "ArrDelay 0\n",
            "DepDelay 0\n",
            "Origin 0\n",
            "Dest 0\n",
            "Cancelled 0\n"
          ]
        }
      ]
    },
    {
      "cell_type": "code",
      "execution_count": 21,
      "metadata": {
        "id": "Y-dasLUJ9jQQ",
        "outputId": "5cec1919-a76b-4d8a-a0f6-8fd6ddefedec",
        "colab": {
          "base_uri": "https://localhost:8080/",
          "height": 356
        }
      },
      "outputs": [
        {
          "output_type": "error",
          "ename": "IllegalArgumentException",
          "evalue": "requirement failed: Output column UniqueCarrier_index already exists.",
          "traceback": [
            "\u001b[0;31m---------------------------------------------------------------------------\u001b[0m",
            "\u001b[0;31mIllegalArgumentException\u001b[0m                  Traceback (most recent call last)",
            "\u001b[0;32m<ipython-input-21-43c26368e7f4>\u001b[0m in \u001b[0;36m<cell line: 11>\u001b[0;34m()\u001b[0m\n\u001b[1;32m      9\u001b[0m \u001b[0;34m\u001b[0m\u001b[0m\n\u001b[1;32m     10\u001b[0m \u001b[0;31m# Se convierten las variables categóricas a numéricas (TailNum, UniqueCarrier, Origin, Dest)\u001b[0m\u001b[0;34m\u001b[0m\u001b[0;34m\u001b[0m\u001b[0m\n\u001b[0;32m---> 11\u001b[0;31m indexers = [\n\u001b[0m\u001b[1;32m     12\u001b[0m     \u001b[0mStringIndexer\u001b[0m\u001b[0;34m(\u001b[0m\u001b[0minputCol\u001b[0m\u001b[0;34m=\u001b[0m\u001b[0mcolumn\u001b[0m\u001b[0;34m,\u001b[0m \u001b[0moutputCol\u001b[0m\u001b[0;34m=\u001b[0m\u001b[0mcolumn\u001b[0m \u001b[0;34m+\u001b[0m \u001b[0;34m\"_index\"\u001b[0m\u001b[0;34m)\u001b[0m\u001b[0;34m.\u001b[0m\u001b[0mfit\u001b[0m\u001b[0;34m(\u001b[0m\u001b[0mdf\u001b[0m\u001b[0;34m)\u001b[0m\u001b[0;34m\u001b[0m\u001b[0;34m\u001b[0m\u001b[0m\n\u001b[1;32m     13\u001b[0m     \u001b[0;32mfor\u001b[0m \u001b[0mcolumn\u001b[0m \u001b[0;32min\u001b[0m \u001b[0;34m[\u001b[0m\u001b[0;34m\"UniqueCarrier\"\u001b[0m\u001b[0;34m,\u001b[0m \u001b[0;34m\"TailNum\"\u001b[0m\u001b[0;34m,\u001b[0m \u001b[0;34m\"Origin\"\u001b[0m\u001b[0;34m,\u001b[0m \u001b[0;34m\"Dest\"\u001b[0m\u001b[0;34m]\u001b[0m\u001b[0;34m\u001b[0m\u001b[0;34m\u001b[0m\u001b[0m\n",
            "\u001b[0;32m<ipython-input-21-43c26368e7f4>\u001b[0m in \u001b[0;36m<listcomp>\u001b[0;34m(.0)\u001b[0m\n\u001b[1;32m     10\u001b[0m \u001b[0;31m# Se convierten las variables categóricas a numéricas (TailNum, UniqueCarrier, Origin, Dest)\u001b[0m\u001b[0;34m\u001b[0m\u001b[0;34m\u001b[0m\u001b[0m\n\u001b[1;32m     11\u001b[0m indexers = [\n\u001b[0;32m---> 12\u001b[0;31m     \u001b[0mStringIndexer\u001b[0m\u001b[0;34m(\u001b[0m\u001b[0minputCol\u001b[0m\u001b[0;34m=\u001b[0m\u001b[0mcolumn\u001b[0m\u001b[0;34m,\u001b[0m \u001b[0moutputCol\u001b[0m\u001b[0;34m=\u001b[0m\u001b[0mcolumn\u001b[0m \u001b[0;34m+\u001b[0m \u001b[0;34m\"_index\"\u001b[0m\u001b[0;34m)\u001b[0m\u001b[0;34m.\u001b[0m\u001b[0mfit\u001b[0m\u001b[0;34m(\u001b[0m\u001b[0mdf\u001b[0m\u001b[0;34m)\u001b[0m\u001b[0;34m\u001b[0m\u001b[0;34m\u001b[0m\u001b[0m\n\u001b[0m\u001b[1;32m     13\u001b[0m     \u001b[0;32mfor\u001b[0m \u001b[0mcolumn\u001b[0m \u001b[0;32min\u001b[0m \u001b[0;34m[\u001b[0m\u001b[0;34m\"UniqueCarrier\"\u001b[0m\u001b[0;34m,\u001b[0m \u001b[0;34m\"TailNum\"\u001b[0m\u001b[0;34m,\u001b[0m \u001b[0;34m\"Origin\"\u001b[0m\u001b[0;34m,\u001b[0m \u001b[0;34m\"Dest\"\u001b[0m\u001b[0;34m]\u001b[0m\u001b[0;34m\u001b[0m\u001b[0;34m\u001b[0m\u001b[0m\n\u001b[1;32m     14\u001b[0m ]\n",
            "\u001b[0;32m/usr/local/lib/python3.10/dist-packages/pyspark/ml/base.py\u001b[0m in \u001b[0;36mfit\u001b[0;34m(self, dataset, params)\u001b[0m\n\u001b[1;32m    203\u001b[0m                 \u001b[0;32mreturn\u001b[0m \u001b[0mself\u001b[0m\u001b[0;34m.\u001b[0m\u001b[0mcopy\u001b[0m\u001b[0;34m(\u001b[0m\u001b[0mparams\u001b[0m\u001b[0;34m)\u001b[0m\u001b[0;34m.\u001b[0m\u001b[0m_fit\u001b[0m\u001b[0;34m(\u001b[0m\u001b[0mdataset\u001b[0m\u001b[0;34m)\u001b[0m\u001b[0;34m\u001b[0m\u001b[0;34m\u001b[0m\u001b[0m\n\u001b[1;32m    204\u001b[0m             \u001b[0;32melse\u001b[0m\u001b[0;34m:\u001b[0m\u001b[0;34m\u001b[0m\u001b[0;34m\u001b[0m\u001b[0m\n\u001b[0;32m--> 205\u001b[0;31m                 \u001b[0;32mreturn\u001b[0m \u001b[0mself\u001b[0m\u001b[0;34m.\u001b[0m\u001b[0m_fit\u001b[0m\u001b[0;34m(\u001b[0m\u001b[0mdataset\u001b[0m\u001b[0;34m)\u001b[0m\u001b[0;34m\u001b[0m\u001b[0;34m\u001b[0m\u001b[0m\n\u001b[0m\u001b[1;32m    206\u001b[0m         \u001b[0;32melse\u001b[0m\u001b[0;34m:\u001b[0m\u001b[0;34m\u001b[0m\u001b[0;34m\u001b[0m\u001b[0m\n\u001b[1;32m    207\u001b[0m             raise TypeError(\n",
            "\u001b[0;32m/usr/local/lib/python3.10/dist-packages/pyspark/ml/wrapper.py\u001b[0m in \u001b[0;36m_fit\u001b[0;34m(self, dataset)\u001b[0m\n\u001b[1;32m    379\u001b[0m \u001b[0;34m\u001b[0m\u001b[0m\n\u001b[1;32m    380\u001b[0m     \u001b[0;32mdef\u001b[0m \u001b[0m_fit\u001b[0m\u001b[0;34m(\u001b[0m\u001b[0mself\u001b[0m\u001b[0;34m,\u001b[0m \u001b[0mdataset\u001b[0m\u001b[0;34m:\u001b[0m \u001b[0mDataFrame\u001b[0m\u001b[0;34m)\u001b[0m \u001b[0;34m->\u001b[0m \u001b[0mJM\u001b[0m\u001b[0;34m:\u001b[0m\u001b[0;34m\u001b[0m\u001b[0;34m\u001b[0m\u001b[0m\n\u001b[0;32m--> 381\u001b[0;31m         \u001b[0mjava_model\u001b[0m \u001b[0;34m=\u001b[0m \u001b[0mself\u001b[0m\u001b[0;34m.\u001b[0m\u001b[0m_fit_java\u001b[0m\u001b[0;34m(\u001b[0m\u001b[0mdataset\u001b[0m\u001b[0;34m)\u001b[0m\u001b[0;34m\u001b[0m\u001b[0;34m\u001b[0m\u001b[0m\n\u001b[0m\u001b[1;32m    382\u001b[0m         \u001b[0mmodel\u001b[0m \u001b[0;34m=\u001b[0m \u001b[0mself\u001b[0m\u001b[0;34m.\u001b[0m\u001b[0m_create_model\u001b[0m\u001b[0;34m(\u001b[0m\u001b[0mjava_model\u001b[0m\u001b[0;34m)\u001b[0m\u001b[0;34m\u001b[0m\u001b[0;34m\u001b[0m\u001b[0m\n\u001b[1;32m    383\u001b[0m         \u001b[0;32mreturn\u001b[0m \u001b[0mself\u001b[0m\u001b[0;34m.\u001b[0m\u001b[0m_copyValues\u001b[0m\u001b[0;34m(\u001b[0m\u001b[0mmodel\u001b[0m\u001b[0;34m)\u001b[0m\u001b[0;34m\u001b[0m\u001b[0;34m\u001b[0m\u001b[0m\n",
            "\u001b[0;32m/usr/local/lib/python3.10/dist-packages/pyspark/ml/wrapper.py\u001b[0m in \u001b[0;36m_fit_java\u001b[0;34m(self, dataset)\u001b[0m\n\u001b[1;32m    376\u001b[0m \u001b[0;34m\u001b[0m\u001b[0m\n\u001b[1;32m    377\u001b[0m         \u001b[0mself\u001b[0m\u001b[0;34m.\u001b[0m\u001b[0m_transfer_params_to_java\u001b[0m\u001b[0;34m(\u001b[0m\u001b[0;34m)\u001b[0m\u001b[0;34m\u001b[0m\u001b[0;34m\u001b[0m\u001b[0m\n\u001b[0;32m--> 378\u001b[0;31m         \u001b[0;32mreturn\u001b[0m \u001b[0mself\u001b[0m\u001b[0;34m.\u001b[0m\u001b[0m_java_obj\u001b[0m\u001b[0;34m.\u001b[0m\u001b[0mfit\u001b[0m\u001b[0;34m(\u001b[0m\u001b[0mdataset\u001b[0m\u001b[0;34m.\u001b[0m\u001b[0m_jdf\u001b[0m\u001b[0;34m)\u001b[0m\u001b[0;34m\u001b[0m\u001b[0;34m\u001b[0m\u001b[0m\n\u001b[0m\u001b[1;32m    379\u001b[0m \u001b[0;34m\u001b[0m\u001b[0m\n\u001b[1;32m    380\u001b[0m     \u001b[0;32mdef\u001b[0m \u001b[0m_fit\u001b[0m\u001b[0;34m(\u001b[0m\u001b[0mself\u001b[0m\u001b[0;34m,\u001b[0m \u001b[0mdataset\u001b[0m\u001b[0;34m:\u001b[0m \u001b[0mDataFrame\u001b[0m\u001b[0;34m)\u001b[0m \u001b[0;34m->\u001b[0m \u001b[0mJM\u001b[0m\u001b[0;34m:\u001b[0m\u001b[0;34m\u001b[0m\u001b[0;34m\u001b[0m\u001b[0m\n",
            "\u001b[0;32m/usr/local/lib/python3.10/dist-packages/py4j/java_gateway.py\u001b[0m in \u001b[0;36m__call__\u001b[0;34m(self, *args)\u001b[0m\n\u001b[1;32m   1320\u001b[0m \u001b[0;34m\u001b[0m\u001b[0m\n\u001b[1;32m   1321\u001b[0m         \u001b[0manswer\u001b[0m \u001b[0;34m=\u001b[0m \u001b[0mself\u001b[0m\u001b[0;34m.\u001b[0m\u001b[0mgateway_client\u001b[0m\u001b[0;34m.\u001b[0m\u001b[0msend_command\u001b[0m\u001b[0;34m(\u001b[0m\u001b[0mcommand\u001b[0m\u001b[0;34m)\u001b[0m\u001b[0;34m\u001b[0m\u001b[0;34m\u001b[0m\u001b[0m\n\u001b[0;32m-> 1322\u001b[0;31m         return_value = get_return_value(\n\u001b[0m\u001b[1;32m   1323\u001b[0m             answer, self.gateway_client, self.target_id, self.name)\n\u001b[1;32m   1324\u001b[0m \u001b[0;34m\u001b[0m\u001b[0m\n",
            "\u001b[0;32m/usr/local/lib/python3.10/dist-packages/pyspark/errors/exceptions/captured.py\u001b[0m in \u001b[0;36mdeco\u001b[0;34m(*a, **kw)\u001b[0m\n\u001b[1;32m    183\u001b[0m                 \u001b[0;31m# Hide where the exception came from that shows a non-Pythonic\u001b[0m\u001b[0;34m\u001b[0m\u001b[0;34m\u001b[0m\u001b[0m\n\u001b[1;32m    184\u001b[0m                 \u001b[0;31m# JVM exception message.\u001b[0m\u001b[0;34m\u001b[0m\u001b[0;34m\u001b[0m\u001b[0m\n\u001b[0;32m--> 185\u001b[0;31m                 \u001b[0;32mraise\u001b[0m \u001b[0mconverted\u001b[0m \u001b[0;32mfrom\u001b[0m \u001b[0;32mNone\u001b[0m\u001b[0;34m\u001b[0m\u001b[0;34m\u001b[0m\u001b[0m\n\u001b[0m\u001b[1;32m    186\u001b[0m             \u001b[0;32melse\u001b[0m\u001b[0;34m:\u001b[0m\u001b[0;34m\u001b[0m\u001b[0;34m\u001b[0m\u001b[0m\n\u001b[1;32m    187\u001b[0m                 \u001b[0;32mraise\u001b[0m\u001b[0;34m\u001b[0m\u001b[0;34m\u001b[0m\u001b[0m\n",
            "\u001b[0;31mIllegalArgumentException\u001b[0m: requirement failed: Output column UniqueCarrier_index already exists."
          ]
        }
      ],
      "source": [
        "# Se crea un vector con las columnas que se van a utilizar\n",
        "features = df.columns\n",
        "features.remove(\"ArrDelay\")\n",
        "from pyspark.sql.functions import col\n",
        "# Se convierte la variable target a numérica\n",
        "df = df.withColumn(\"ArrDelay\", df[\"ArrDelay\"].cast(IntegerType()))\n",
        "df = df.withColumn(\"ArrDelay\", when(col(\"ArrDelay\") > 15, 1).otherwise(0))\n",
        "df = df.withColumn(\"ArrDelay\", df[\"ArrDelay\"].cast(IntegerType()))\n",
        "\n",
        "# Se convierten las variables categóricas a numéricas (TailNum, UniqueCarrier, Origin, Dest)\n",
        "indexers = [\n",
        "    StringIndexer(inputCol=column, outputCol=column + \"_index\").fit(df)\n",
        "    for column in [\"UniqueCarrier\", \"TailNum\", \"Origin\", \"Dest\"]\n",
        "]\n",
        "\n",
        "pipeline = Pipeline(stages=indexers)\n",
        "df = pipeline.fit(df).transform(df)\n",
        "\n",
        "# Mostrar las primeras filas del dataframe\n",
        "\n",
        "\n"
      ]
    },
    {
      "cell_type": "code",
      "source": [
        "print(\"Primeras filas del dataframe:\")\n",
        "df.show(5)"
      ],
      "metadata": {
        "id": "WFzxywhED1Jr",
        "outputId": "fd3e2ec2-8e91-4178-e048-994a72970d69",
        "colab": {
          "base_uri": "https://localhost:8080/"
        }
      },
      "execution_count": 22,
      "outputs": [
        {
          "output_type": "stream",
          "name": "stdout",
          "text": [
            "Primeras filas del dataframe:\n",
            "+-----+----------+---------+-------+----------+-------+----------+-------------+-------+----------+--------------+--------+--------+------+----+---------+-------------------+-------------+------------+----------+\n",
            "|Month|DayofMonth|DayOfWeek|DepTime|CRSDepTime|ArrTime|CRSArrTime|UniqueCarrier|TailNum| IssueDate|CRSElapsedTime|ArrDelay|DepDelay|Origin|Dest|Cancelled|UniqueCarrier_index|TailNum_index|Origin_index|Dest_index|\n",
            "+-----+----------+---------+-------+----------+-------+----------+-------------+-------+----------+--------------+--------+--------+------+----+---------+-------------------+-------------+------------+----------+\n",
            "|    1|         3|        4| 1343.0|      1325| 1451.0|      1435|           WN| N240WN|07/11/2006|          70.0|       0|    18.0|   HOU| LIT|        0|                0.0|        562.0|        39.0|      79.0|\n",
            "|    1|         3|        4| 1125.0|      1120| 1247.0|      1245|           WN| N523SW|02/11/1992|          85.0|       0|     5.0|   HOU| MAF|        0|                0.0|       1276.0|        39.0|     119.0|\n",
            "|    1|         3|        4| 2009.0|      2015| 2136.0|      2140|           WN| N280WN|06/26/2007|          85.0|       0|    -6.0|   HOU| MAF|        0|                0.0|        455.0|        39.0|     119.0|\n",
            "|    1|         3|        4|  903.0|       855| 1203.0|      1205|           WN| N308SA|03/30/1999|         130.0|       0|     8.0|   HOU| MCO|        0|                0.0|         96.0|        39.0|      11.0|\n",
            "|    1|         3|        4| 1423.0|      1400| 1726.0|      1710|           WN| N462WN|07/01/2004|         130.0|       0|    23.0|   HOU| MCO|        0|                0.0|        492.0|        39.0|      11.0|\n",
            "+-----+----------+---------+-------+----------+-------+----------+-------------+-------+----------+--------------+--------+--------+------+----+---------+-------------------+-------------+------------+----------+\n",
            "only showing top 5 rows\n",
            "\n"
          ]
        }
      ]
    },
    {
      "cell_type": "code",
      "source": [
        "# eliminamos las filas que hemos indexado\n",
        "df = df.drop(*[\"UniqueCarrier\", \"TailNum\", \"Origin\", \"Dest\"])"
      ],
      "metadata": {
        "id": "X485XwoLD9o1"
      },
      "execution_count": 23,
      "outputs": []
    },
    {
      "cell_type": "code",
      "source": [],
      "metadata": {
        "id": "rOwXztKOESSO"
      },
      "execution_count": null,
      "outputs": []
    },
    {
      "cell_type": "code",
      "execution_count": 27,
      "metadata": {
        "id": "igZh7yz89jQQ",
        "outputId": "784b716d-b640-4797-8519-1e56308d18a6",
        "colab": {
          "base_uri": "https://localhost:8080/"
        }
      },
      "outputs": [
        {
          "output_type": "stream",
          "name": "stdout",
          "text": [
            "['Month', 'DayofMonth', 'DayOfWeek', 'DepTime', 'CRSDepTime', 'ArrTime', 'CRSArrTime', 'CRSElapsedTime', 'DepDelay', 'Cancelled', 'UniqueCarrier_index', 'TailNum_index', 'Origin_index', 'Dest_index']\n",
            "+-----+----------+---------+-------+----------+-------+----------+----------+--------------+--------+--------+---------+-------------------+-------------+------------+----------+--------------------+--------------------+----------+\n",
            "|Month|DayofMonth|DayOfWeek|DepTime|CRSDepTime|ArrTime|CRSArrTime| IssueDate|CRSElapsedTime|ArrDelay|DepDelay|Cancelled|UniqueCarrier_index|TailNum_index|Origin_index|Dest_index|            features|       features_norm|prediction|\n",
            "+-----+----------+---------+-------+----------+-------+----------+----------+--------------+--------+--------+---------+-------------------+-------------+------------+----------+--------------------+--------------------+----------+\n",
            "|    1|         1|        2|    2.0|      2255|   57.0|      2357|07/31/2001|          62.0|       0|    67.0|        0|               11.0|        685.0|         0.0|      85.0|[1.0,1.0,2.0,2.0,...|[2.99763680029216...|       0.0|\n",
            "|    1|         1|        2|    3.0|      2110|  323.0|        40|12/06/2000|         150.0|       0|   173.0|        0|                0.0|        529.0|        23.0|      25.0|[1.0,1.0,2.0,3.0,...|[4.52147768341840...|       0.0|\n",
            "|    1|         1|        2|    4.0|      2110|  241.0|      2359|01/28/2003|         109.0|       0|   174.0|        0|                3.0|       1051.0|         1.0|      14.0|[1.0,1.0,2.0,4.0,...|[2.98513474245889...|       0.0|\n",
            "|    1|         1|        2|    5.0|      2110|  247.0|      2355|10/29/2004|         105.0|       0|   175.0|        0|                0.0|        493.0|        37.0|       5.0|[1.0,1.0,2.0,5.0,...|[3.10906167285602...|       0.0|\n",
            "|    1|         1|        2|    8.0|      2140|  200.0|      2340|10/03/2007|          60.0|       0|   148.0|        0|                0.0|        202.0|        23.0|       8.0|[1.0,1.0,2.0,8.0,...|[3.13694389077852...|       0.0|\n",
            "|    1|         1|        2|    8.0|      2359|  826.0|       800|08/10/2000|         301.0|       0|     9.0|        0|               15.0|       3020.0|        19.0|      16.0|[1.0,1.0,2.0,8.0,...|[2.49228964511677...|       0.0|\n",
            "|    1|         1|        2|   13.0|      2347|  801.0|       750|10/14/2004|         303.0|       0|    26.0|        0|                4.0|       2811.0|         7.0|      16.0|[1.0,1.0,2.0,13.0...|[2.60756308203374...|       0.0|\n",
            "|    1|         1|        2|   14.0|      2353|  239.0|       219|12/05/2003|         146.0|       0|    21.0|        0|                4.0|       2520.0|         7.0|      38.0|[1.0,1.0,2.0,14.0...|[2.88488170701750...|       0.0|\n",
            "|    1|         1|        2|   21.0|        30|  808.0|       831|02/07/2007|         301.0|       0|    -9.0|        0|               15.0|       2184.0|        48.0|      16.0|[1.0,1.0,2.0,21.0...|[4.01347741050068...|       0.0|\n",
            "|    1|         1|        2|   21.0|      2125|  137.0|      2245|05/05/2001|          80.0|       0|   176.0|        0|                0.0|        651.0|         4.0|      40.0|[1.0,1.0,2.0,21.0...|[3.15634001462957...|       0.0|\n",
            "|    1|         1|        2|   21.0|      2350|  734.0|       657|07/11/1988|         247.0|       0|    31.0|        0|                6.0|       3569.0|         4.0|       0.0|[1.0,1.0,2.0,21.0...|[2.27666220782620...|       0.0|\n",
            "|    1|         1|        2|   22.0|      2354|  716.0|       714|05/07/2004|         260.0|       0|    28.0|        0|                4.0|       2966.0|         7.0|      25.0|[1.0,1.0,2.0,22.0...|[2.54571727366825...|       0.0|\n",
            "|    1|         1|        2|   23.0|      2359|  143.0|       138|12/19/1994|          99.0|       0|    24.0|        0|                4.0|       3007.0|         7.0|      29.0|[1.0,1.0,2.0,23.0...|[2.61191519007330...|       0.0|\n",
            "|    1|         1|        2|   26.0|      2255|  250.0|       135|04/04/2007|         160.0|       0|    91.0|        0|               15.0|       2230.0|        28.0|      16.0|[1.0,1.0,2.0,26.0...|[3.13504610054055...|       0.0|\n",
            "|    1|         1|        2|   32.0|      2320|  743.0|       613|05/26/1998|         233.0|       0|    72.0|        0|                9.0|       4257.0|         7.0|      31.0|[1.0,1.0,2.0,32.0...|[2.02055825204812...|       0.0|\n",
            "|    1|         1|        2|   36.0|      2245|  137.0|      2359|10/01/2002|          74.0|       0|   111.0|        0|                7.0|       2141.0|         6.0|     153.0|[1.0,1.0,2.0,36.0...|[2.56072508891673...|       0.0|\n",
            "|    1|         1|        2|   40.0|        40|  619.0|       640|06/01/2004|         240.0|       0|     0.0|        0|                9.0|       3798.0|        19.0|       6.0|[1.0,1.0,2.0,40.0...|[2.55831890783003...|       0.0|\n",
            "|    1|         1|        2|  110.0|       115|  600.0|       545|10/27/2006|         210.0|       0|    -5.0|        0|               16.0|       4065.0|        74.0|      19.0|[1.0,1.0,2.0,110....|[2.40724270720069...|       0.0|\n",
            "|    1|         1|        2|  140.0|       145|  615.0|       623|05/30/1997|         158.0|       0|    -5.0|        0|                6.0|       3772.0|         3.0|       0.0|[1.0,1.0,2.0,140....|[2.57684010349299...|       0.0|\n",
            "|    1|         1|        2|  159.0|      2355|  924.0|       655|      NULL|         300.0|       0|   124.0|        0|                1.0|       4156.0|        89.0|       4.0|[1.0,1.0,2.0,159....|[2.03112108864694...|       0.0|\n",
            "+-----+----------+---------+-------+----------+-------+----------+----------+--------------+--------+--------+---------+-------------------+-------------+------------+----------+--------------------+--------------------+----------+\n",
            "only showing top 20 rows\n",
            "\n"
          ]
        }
      ],
      "source": [
        "# linear regression\n",
        "# Uso de funciones del archivo models.py\n",
        "from models import estimate_lr, estimate_kmeans\n",
        "input_columns_lr = [col for col in df.columns if (col != \"ArrDelay\" and col != \"IssueDate\")]\n",
        "print(input_columns_lr)\n",
        "model = estimate_lr(df, input_columns_lr, target)"
      ]
    },
    {
      "cell_type": "code",
      "execution_count": 29,
      "metadata": {
        "id": "j1-dfMVB9jQQ",
        "outputId": "ee30a058-cbdd-4428-a81d-7260e73acc36",
        "colab": {
          "base_uri": "https://localhost:8080/"
        }
      },
      "outputs": [
        {
          "output_type": "stream",
          "name": "stdout",
          "text": [
            "+-----+----------+---------+-------+----------+-------+----------+----------+--------------+--------+--------+---------+-------------------+-------------+------------+----------+--------------------+----------+\n",
            "|Month|DayofMonth|DayOfWeek|DepTime|CRSDepTime|ArrTime|CRSArrTime| IssueDate|CRSElapsedTime|ArrDelay|DepDelay|Cancelled|UniqueCarrier_index|TailNum_index|Origin_index|Dest_index|            features|prediction|\n",
            "+-----+----------+---------+-------+----------+-------+----------+----------+--------------+--------+--------+---------+-------------------+-------------+------------+----------+--------------------+----------+\n",
            "|    1|         1|        2|    2.0|      2255|   57.0|      2357|07/31/2001|          62.0|       0|    67.0|        0|               11.0|        685.0|         0.0|      85.0|[1.0,1.0,2.0,2.0,...|         0|\n",
            "|    1|         1|        2|    3.0|      2110|  323.0|        40|12/06/2000|         150.0|       0|   173.0|        0|                0.0|        529.0|        23.0|      25.0|[1.0,1.0,2.0,3.0,...|         0|\n",
            "|    1|         1|        2|    4.0|      2110|  241.0|      2359|01/28/2003|         109.0|       0|   174.0|        0|                3.0|       1051.0|         1.0|      14.0|[1.0,1.0,2.0,4.0,...|         0|\n",
            "|    1|         1|        2|    5.0|      2110|  247.0|      2355|10/29/2004|         105.0|       0|   175.0|        0|                0.0|        493.0|        37.0|       5.0|[1.0,1.0,2.0,5.0,...|         0|\n",
            "|    1|         1|        2|    8.0|      2140|  200.0|      2340|10/03/2007|          60.0|       0|   148.0|        0|                0.0|        202.0|        23.0|       8.0|[1.0,1.0,2.0,8.0,...|         0|\n",
            "|    1|         1|        2|    8.0|      2359|  826.0|       800|08/10/2000|         301.0|       0|     9.0|        0|               15.0|       3020.0|        19.0|      16.0|[1.0,1.0,2.0,8.0,...|         2|\n",
            "|    1|         1|        2|   13.0|      2347|  801.0|       750|10/14/2004|         303.0|       0|    26.0|        0|                4.0|       2811.0|         7.0|      16.0|[1.0,1.0,2.0,13.0...|         2|\n",
            "|    1|         1|        2|   14.0|      2353|  239.0|       219|12/05/2003|         146.0|       0|    21.0|        0|                4.0|       2520.0|         7.0|      38.0|[1.0,1.0,2.0,14.0...|         2|\n",
            "|    1|         1|        2|   21.0|        30|  808.0|       831|02/07/2007|         301.0|       0|    -9.0|        0|               15.0|       2184.0|        48.0|      16.0|[1.0,1.0,2.0,21.0...|         2|\n",
            "|    1|         1|        2|   21.0|      2125|  137.0|      2245|05/05/2001|          80.0|       0|   176.0|        0|                0.0|        651.0|         4.0|      40.0|[1.0,1.0,2.0,21.0...|         0|\n",
            "|    1|         1|        2|   21.0|      2350|  734.0|       657|07/11/1988|         247.0|       0|    31.0|        0|                6.0|       3569.0|         4.0|       0.0|[1.0,1.0,2.0,21.0...|         2|\n",
            "|    1|         1|        2|   22.0|      2354|  716.0|       714|05/07/2004|         260.0|       0|    28.0|        0|                4.0|       2966.0|         7.0|      25.0|[1.0,1.0,2.0,22.0...|         2|\n",
            "|    1|         1|        2|   23.0|      2359|  143.0|       138|12/19/1994|          99.0|       0|    24.0|        0|                4.0|       3007.0|         7.0|      29.0|[1.0,1.0,2.0,23.0...|         2|\n",
            "|    1|         1|        2|   26.0|      2255|  250.0|       135|04/04/2007|         160.0|       0|    91.0|        0|               15.0|       2230.0|        28.0|      16.0|[1.0,1.0,2.0,26.0...|         2|\n",
            "|    1|         1|        2|   32.0|      2320|  743.0|       613|05/26/1998|         233.0|       0|    72.0|        0|                9.0|       4257.0|         7.0|      31.0|[1.0,1.0,2.0,32.0...|         2|\n",
            "|    1|         1|        2|   36.0|      2245|  137.0|      2359|10/01/2002|          74.0|       0|   111.0|        0|                7.0|       2141.0|         6.0|     153.0|[1.0,1.0,2.0,36.0...|         2|\n",
            "|    1|         1|        2|   40.0|        40|  619.0|       640|06/01/2004|         240.0|       0|     0.0|        0|                9.0|       3798.0|        19.0|       6.0|[1.0,1.0,2.0,40.0...|         2|\n",
            "|    1|         1|        2|  110.0|       115|  600.0|       545|10/27/2006|         210.0|       0|    -5.0|        0|               16.0|       4065.0|        74.0|      19.0|[1.0,1.0,2.0,110....|         2|\n",
            "|    1|         1|        2|  140.0|       145|  615.0|       623|05/30/1997|         158.0|       0|    -5.0|        0|                6.0|       3772.0|         3.0|       0.0|[1.0,1.0,2.0,140....|         2|\n",
            "|    1|         1|        2|  159.0|      2355|  924.0|       655|      NULL|         300.0|       0|   124.0|        0|                1.0|       4156.0|        89.0|       4.0|[1.0,1.0,2.0,159....|         2|\n",
            "+-----+----------+---------+-------+----------+-------+----------+----------+--------------+--------+--------+---------+-------------------+-------------+------------+----------+--------------------+----------+\n",
            "only showing top 20 rows\n",
            "\n"
          ]
        }
      ],
      "source": [
        "# kmeans\n",
        "input_columns_kmeans = [col for col in df.columns if (col != \"ArrDelay\" and col != \"IssueDate\")]\n",
        "k = 3\n",
        "kmeans_model = estimate_kmeans(df, input_columns_kmeans, k)"
      ]
    }
  ],
  "metadata": {
    "kernelspec": {
      "display_name": "Python 3",
      "name": "python3"
    },
    "language_info": {
      "name": "python",
      "version": "3.11.3"
    },
    "colab": {
      "provenance": [],
      "gpuType": "T4"
    },
    "accelerator": "GPU"
  },
  "nbformat": 4,
  "nbformat_minor": 0
}